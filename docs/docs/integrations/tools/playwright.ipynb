{
  "cells": [
    {
      "cell_type": "markdown",
      "metadata": {
        "id": "view-in-github",
        "colab_type": "text"
      },
      "source": [
        "<a href=\"https://colab.research.google.com/github/singhsrj/Google-Collab-Notebooks/blob/main/docs/docs/integrations/tools/playwright.ipynb\" target=\"_parent\"><img src=\"https://colab.research.google.com/assets/colab-badge.svg\" alt=\"Open In Colab\"/></a>"
      ]
    },
    {
      "cell_type": "markdown",
      "metadata": {
        "id": "6LVJy4lIr-MA"
      },
      "source": [
        "# PlayWright Browser Toolkit\n",
        "\n",
        ">[Playwright](https://github.com/microsoft/playwright) is an open-source automation tool developed by `Microsoft` that allows you to programmatically control and automate web browsers. It is designed for end-to-end testing, scraping, and automating tasks across various web browsers such as `Chromium`, `Firefox`, and `WebKit`.\n",
        "\n",
        "This toolkit is used to interact with the browser. While other tools (like the `Requests` tools) are fine for static sites, `PlayWright Browser` toolkits let your agent navigate the web and interact with dynamically rendered sites.\n",
        "\n",
        "Some tools bundled within the `PlayWright Browser` toolkit include:\n",
        "\n",
        "- `NavigateTool` (navigate_browser) - navigate to a URL\n",
        "- `NavigateBackTool` (previous_page) - wait for an element to appear\n",
        "- `ClickTool` (click_element) - click on an element (specified by selector)\n",
        "- `ExtractTextTool` (extract_text) - use beautiful soup to extract text from the current web page\n",
        "- `ExtractHyperlinksTool` (extract_hyperlinks) - use beautiful soup to extract hyperlinks from the current web page\n",
        "- `GetElementsTool` (get_elements) - select elements by CSS selector\n",
        "- `CurrentPageTool` (current_page) - get the current page URL\n"
      ]
    },
    {
      "cell_type": "code",
      "execution_count": 1,
      "metadata": {
        "tags": [],
        "id": "QWabqLe2r-MG"
      },
      "outputs": [],
      "source": [
        "%pip install --upgrade --quiet  playwright > /dev/null\n",
        "%pip install --upgrade --quiet  lxml\n",
        "\n",
        "# If this is your first time using playwright, you'll have to install a browser executable.\n",
        "# Running `playwright install` by default installs a chromium browser executable.\n",
        "# playwright install"
      ]
    },
    {
      "cell_type": "code",
      "execution_count": 3,
      "metadata": {
        "tags": [],
        "collapsed": true,
        "id": "aGYJsSxyr-MI",
        "outputId": "8da92ede-7ace-4237-cf03-a270e14b3920",
        "colab": {
          "base_uri": "https://localhost:8080/"
        }
      },
      "outputs": [
        {
          "output_type": "stream",
          "name": "stdout",
          "text": [
            "Collecting langchain_community\n",
            "  Downloading langchain_community-0.3.20-py3-none-any.whl.metadata (2.4 kB)\n",
            "Requirement already satisfied: langchain-core<1.0.0,>=0.3.45 in /usr/local/lib/python3.11/dist-packages (from langchain_community) (0.3.47)\n",
            "Requirement already satisfied: langchain<1.0.0,>=0.3.21 in /usr/local/lib/python3.11/dist-packages (from langchain_community) (0.3.21)\n",
            "Requirement already satisfied: SQLAlchemy<3,>=1.4 in /usr/local/lib/python3.11/dist-packages (from langchain_community) (2.0.39)\n",
            "Requirement already satisfied: requests<3,>=2 in /usr/local/lib/python3.11/dist-packages (from langchain_community) (2.32.3)\n",
            "Requirement already satisfied: PyYAML>=5.3 in /usr/local/lib/python3.11/dist-packages (from langchain_community) (6.0.2)\n",
            "Requirement already satisfied: aiohttp<4.0.0,>=3.8.3 in /usr/local/lib/python3.11/dist-packages (from langchain_community) (3.11.14)\n",
            "Requirement already satisfied: tenacity!=8.4.0,<10,>=8.1.0 in /usr/local/lib/python3.11/dist-packages (from langchain_community) (9.0.0)\n",
            "Collecting dataclasses-json<0.7,>=0.5.7 (from langchain_community)\n",
            "  Downloading dataclasses_json-0.6.7-py3-none-any.whl.metadata (25 kB)\n",
            "Collecting pydantic-settings<3.0.0,>=2.4.0 (from langchain_community)\n",
            "  Downloading pydantic_settings-2.8.1-py3-none-any.whl.metadata (3.5 kB)\n",
            "Requirement already satisfied: langsmith<0.4,>=0.1.125 in /usr/local/lib/python3.11/dist-packages (from langchain_community) (0.3.18)\n",
            "Collecting httpx-sse<1.0.0,>=0.4.0 (from langchain_community)\n",
            "  Downloading httpx_sse-0.4.0-py3-none-any.whl.metadata (9.0 kB)\n",
            "Requirement already satisfied: numpy<3,>=1.26.2 in /usr/local/lib/python3.11/dist-packages (from langchain_community) (2.0.2)\n",
            "Requirement already satisfied: aiohappyeyeballs>=2.3.0 in /usr/local/lib/python3.11/dist-packages (from aiohttp<4.0.0,>=3.8.3->langchain_community) (2.6.1)\n",
            "Requirement already satisfied: aiosignal>=1.1.2 in /usr/local/lib/python3.11/dist-packages (from aiohttp<4.0.0,>=3.8.3->langchain_community) (1.3.2)\n",
            "Requirement already satisfied: attrs>=17.3.0 in /usr/local/lib/python3.11/dist-packages (from aiohttp<4.0.0,>=3.8.3->langchain_community) (25.3.0)\n",
            "Requirement already satisfied: frozenlist>=1.1.1 in /usr/local/lib/python3.11/dist-packages (from aiohttp<4.0.0,>=3.8.3->langchain_community) (1.5.0)\n",
            "Requirement already satisfied: multidict<7.0,>=4.5 in /usr/local/lib/python3.11/dist-packages (from aiohttp<4.0.0,>=3.8.3->langchain_community) (6.2.0)\n",
            "Requirement already satisfied: propcache>=0.2.0 in /usr/local/lib/python3.11/dist-packages (from aiohttp<4.0.0,>=3.8.3->langchain_community) (0.3.0)\n",
            "Requirement already satisfied: yarl<2.0,>=1.17.0 in /usr/local/lib/python3.11/dist-packages (from aiohttp<4.0.0,>=3.8.3->langchain_community) (1.18.3)\n",
            "Collecting marshmallow<4.0.0,>=3.18.0 (from dataclasses-json<0.7,>=0.5.7->langchain_community)\n",
            "  Downloading marshmallow-3.26.1-py3-none-any.whl.metadata (7.3 kB)\n",
            "Collecting typing-inspect<1,>=0.4.0 (from dataclasses-json<0.7,>=0.5.7->langchain_community)\n",
            "  Downloading typing_inspect-0.9.0-py3-none-any.whl.metadata (1.5 kB)\n",
            "Requirement already satisfied: langchain-text-splitters<1.0.0,>=0.3.7 in /usr/local/lib/python3.11/dist-packages (from langchain<1.0.0,>=0.3.21->langchain_community) (0.3.7)\n",
            "Requirement already satisfied: pydantic<3.0.0,>=2.7.4 in /usr/local/lib/python3.11/dist-packages (from langchain<1.0.0,>=0.3.21->langchain_community) (2.10.6)\n",
            "Requirement already satisfied: jsonpatch<2.0,>=1.33 in /usr/local/lib/python3.11/dist-packages (from langchain-core<1.0.0,>=0.3.45->langchain_community) (1.33)\n",
            "Requirement already satisfied: packaging<25,>=23.2 in /usr/local/lib/python3.11/dist-packages (from langchain-core<1.0.0,>=0.3.45->langchain_community) (24.2)\n",
            "Requirement already satisfied: typing-extensions>=4.7 in /usr/local/lib/python3.11/dist-packages (from langchain-core<1.0.0,>=0.3.45->langchain_community) (4.12.2)\n",
            "Requirement already satisfied: httpx<1,>=0.23.0 in /usr/local/lib/python3.11/dist-packages (from langsmith<0.4,>=0.1.125->langchain_community) (0.28.1)\n",
            "Requirement already satisfied: orjson<4.0.0,>=3.9.14 in /usr/local/lib/python3.11/dist-packages (from langsmith<0.4,>=0.1.125->langchain_community) (3.10.15)\n",
            "Requirement already satisfied: requests-toolbelt<2.0.0,>=1.0.0 in /usr/local/lib/python3.11/dist-packages (from langsmith<0.4,>=0.1.125->langchain_community) (1.0.0)\n",
            "Requirement already satisfied: zstandard<0.24.0,>=0.23.0 in /usr/local/lib/python3.11/dist-packages (from langsmith<0.4,>=0.1.125->langchain_community) (0.23.0)\n",
            "Collecting python-dotenv>=0.21.0 (from pydantic-settings<3.0.0,>=2.4.0->langchain_community)\n",
            "  Downloading python_dotenv-1.1.0-py3-none-any.whl.metadata (24 kB)\n",
            "Requirement already satisfied: charset-normalizer<4,>=2 in /usr/local/lib/python3.11/dist-packages (from requests<3,>=2->langchain_community) (3.4.1)\n",
            "Requirement already satisfied: idna<4,>=2.5 in /usr/local/lib/python3.11/dist-packages (from requests<3,>=2->langchain_community) (3.10)\n",
            "Requirement already satisfied: urllib3<3,>=1.21.1 in /usr/local/lib/python3.11/dist-packages (from requests<3,>=2->langchain_community) (2.3.0)\n",
            "Requirement already satisfied: certifi>=2017.4.17 in /usr/local/lib/python3.11/dist-packages (from requests<3,>=2->langchain_community) (2025.1.31)\n",
            "Requirement already satisfied: greenlet!=0.4.17 in /usr/local/lib/python3.11/dist-packages (from SQLAlchemy<3,>=1.4->langchain_community) (3.1.1)\n",
            "Requirement already satisfied: anyio in /usr/local/lib/python3.11/dist-packages (from httpx<1,>=0.23.0->langsmith<0.4,>=0.1.125->langchain_community) (4.9.0)\n",
            "Requirement already satisfied: httpcore==1.* in /usr/local/lib/python3.11/dist-packages (from httpx<1,>=0.23.0->langsmith<0.4,>=0.1.125->langchain_community) (1.0.7)\n",
            "Requirement already satisfied: h11<0.15,>=0.13 in /usr/local/lib/python3.11/dist-packages (from httpcore==1.*->httpx<1,>=0.23.0->langsmith<0.4,>=0.1.125->langchain_community) (0.14.0)\n",
            "Requirement already satisfied: jsonpointer>=1.9 in /usr/local/lib/python3.11/dist-packages (from jsonpatch<2.0,>=1.33->langchain-core<1.0.0,>=0.3.45->langchain_community) (3.0.0)\n",
            "Requirement already satisfied: annotated-types>=0.6.0 in /usr/local/lib/python3.11/dist-packages (from pydantic<3.0.0,>=2.7.4->langchain<1.0.0,>=0.3.21->langchain_community) (0.7.0)\n",
            "Requirement already satisfied: pydantic-core==2.27.2 in /usr/local/lib/python3.11/dist-packages (from pydantic<3.0.0,>=2.7.4->langchain<1.0.0,>=0.3.21->langchain_community) (2.27.2)\n",
            "Collecting mypy-extensions>=0.3.0 (from typing-inspect<1,>=0.4.0->dataclasses-json<0.7,>=0.5.7->langchain_community)\n",
            "  Downloading mypy_extensions-1.0.0-py3-none-any.whl.metadata (1.1 kB)\n",
            "Requirement already satisfied: sniffio>=1.1 in /usr/local/lib/python3.11/dist-packages (from anyio->httpx<1,>=0.23.0->langsmith<0.4,>=0.1.125->langchain_community) (1.3.1)\n",
            "Downloading langchain_community-0.3.20-py3-none-any.whl (2.5 MB)\n",
            "\u001b[2K   \u001b[90m━━━━━━━━━━━━━━━━━━━━━━━━━━━━━━━━━━━━━━━━\u001b[0m \u001b[32m2.5/2.5 MB\u001b[0m \u001b[31m33.0 MB/s\u001b[0m eta \u001b[36m0:00:00\u001b[0m\n",
            "\u001b[?25hDownloading dataclasses_json-0.6.7-py3-none-any.whl (28 kB)\n",
            "Downloading httpx_sse-0.4.0-py3-none-any.whl (7.8 kB)\n",
            "Downloading pydantic_settings-2.8.1-py3-none-any.whl (30 kB)\n",
            "Downloading marshmallow-3.26.1-py3-none-any.whl (50 kB)\n",
            "\u001b[2K   \u001b[90m━━━━━━━━━━━━━━━━━━━━━━━━━━━━━━━━━━━━━━━━\u001b[0m \u001b[32m50.9/50.9 kB\u001b[0m \u001b[31m3.7 MB/s\u001b[0m eta \u001b[36m0:00:00\u001b[0m\n",
            "\u001b[?25hDownloading python_dotenv-1.1.0-py3-none-any.whl (20 kB)\n",
            "Downloading typing_inspect-0.9.0-py3-none-any.whl (8.8 kB)\n",
            "Downloading mypy_extensions-1.0.0-py3-none-any.whl (4.7 kB)\n",
            "Installing collected packages: python-dotenv, mypy-extensions, marshmallow, httpx-sse, typing-inspect, pydantic-settings, dataclasses-json, langchain_community\n",
            "Successfully installed dataclasses-json-0.6.7 httpx-sse-0.4.0 langchain_community-0.3.20 marshmallow-3.26.1 mypy-extensions-1.0.0 pydantic-settings-2.8.1 python-dotenv-1.1.0 typing-inspect-0.9.0\n"
          ]
        }
      ],
      "source": [
        "!pip install langchain_community\n",
        "from langchain_community.agent_toolkits import PlayWrightBrowserToolkit"
      ]
    },
    {
      "cell_type": "markdown",
      "metadata": {
        "id": "nMQoSQEWr-MJ"
      },
      "source": [
        "Async function to create context and launch browser:"
      ]
    },
    {
      "cell_type": "code",
      "execution_count": 4,
      "metadata": {
        "id": "cFWj-LXor-MK"
      },
      "outputs": [],
      "source": [
        "from langchain_community.tools.playwright.utils import (\n",
        "    create_async_playwright_browser,  # A synchronous browser is available, though it isn't compatible with jupyter.\\n\",\t  },\n",
        ")"
      ]
    },
    {
      "cell_type": "code",
      "execution_count": 5,
      "metadata": {
        "tags": [],
        "id": "G84vF81dr-MK"
      },
      "outputs": [],
      "source": [
        "# This import is required only for jupyter notebooks, since they have their own eventloop\n",
        "import nest_asyncio\n",
        "\n",
        "nest_asyncio.apply()"
      ]
    },
    {
      "cell_type": "code",
      "source": [
        "!playwright install"
      ],
      "metadata": {
        "id": "8jzvYrGWsnN7",
        "outputId": "06217410-882a-4180-f032-f64862bde618",
        "colab": {
          "base_uri": "https://localhost:8080/"
        }
      },
      "execution_count": 8,
      "outputs": [
        {
          "output_type": "stream",
          "name": "stdout",
          "text": [
            "Downloading Chromium 134.0.6998.35 (playwright build v1161)\u001b[2m from https://cdn.playwright.dev/dbazure/download/playwright/builds/chromium/1161/chromium-linux.zip\u001b[22m\n",
            "\u001b[1G164.9 MiB [] 0% 0.0s\u001b[0K\u001b[1G164.9 MiB [] 0% 96.5s\u001b[0K\u001b[1G164.9 MiB [] 0% 98.7s\u001b[0K\u001b[1G164.9 MiB [] 0% 69.4s\u001b[0K\u001b[1G164.9 MiB [] 0% 45.0s\u001b[0K\u001b[1G164.9 MiB [] 0% 33.3s\u001b[0K\u001b[1G164.9 MiB [] 0% 24.6s\u001b[0K\u001b[1G164.9 MiB [] 0% 18.0s\u001b[0K\u001b[1G164.9 MiB [] 1% 12.7s\u001b[0K\u001b[1G164.9 MiB [] 1% 8.7s\u001b[0K\u001b[1G164.9 MiB [] 2% 6.8s\u001b[0K\u001b[1G164.9 MiB [] 3% 5.5s\u001b[0K\u001b[1G164.9 MiB [] 4% 4.4s\u001b[0K\u001b[1G164.9 MiB [] 5% 3.9s\u001b[0K\u001b[1G164.9 MiB [] 6% 3.6s\u001b[0K\u001b[1G164.9 MiB [] 6% 3.8s\u001b[0K\u001b[1G164.9 MiB [] 6% 3.7s\u001b[0K\u001b[1G164.9 MiB [] 7% 3.4s\u001b[0K\u001b[1G164.9 MiB [] 8% 3.2s\u001b[0K\u001b[1G164.9 MiB [] 9% 3.1s\u001b[0K\u001b[1G164.9 MiB [] 9% 3.0s\u001b[0K\u001b[1G164.9 MiB [] 10% 2.9s\u001b[0K\u001b[1G164.9 MiB [] 11% 2.9s\u001b[0K\u001b[1G164.9 MiB [] 12% 2.7s\u001b[0K\u001b[1G164.9 MiB [] 13% 2.5s\u001b[0K\u001b[1G164.9 MiB [] 15% 2.3s\u001b[0K\u001b[1G164.9 MiB [] 16% 2.2s\u001b[0K\u001b[1G164.9 MiB [] 17% 2.2s\u001b[0K\u001b[1G164.9 MiB [] 18% 2.1s\u001b[0K\u001b[1G164.9 MiB [] 19% 2.0s\u001b[0K\u001b[1G164.9 MiB [] 20% 1.9s\u001b[0K\u001b[1G164.9 MiB [] 21% 1.8s\u001b[0K\u001b[1G164.9 MiB [] 22% 1.8s\u001b[0K\u001b[1G164.9 MiB [] 22% 1.9s\u001b[0K\u001b[1G164.9 MiB [] 23% 1.8s\u001b[0K\u001b[1G164.9 MiB [] 25% 1.7s\u001b[0K\u001b[1G164.9 MiB [] 27% 1.6s\u001b[0K\u001b[1G164.9 MiB [] 28% 1.6s\u001b[0K\u001b[1G164.9 MiB [] 29% 1.5s\u001b[0K\u001b[1G164.9 MiB [] 30% 1.5s\u001b[0K\u001b[1G164.9 MiB [] 31% 1.4s\u001b[0K\u001b[1G164.9 MiB [] 33% 1.4s\u001b[0K\u001b[1G164.9 MiB [] 34% 1.3s\u001b[0K\u001b[1G164.9 MiB [] 35% 1.3s\u001b[0K\u001b[1G164.9 MiB [] 36% 1.3s\u001b[0K\u001b[1G164.9 MiB [] 38% 1.2s\u001b[0K\u001b[1G164.9 MiB [] 39% 1.2s\u001b[0K\u001b[1G164.9 MiB [] 41% 1.2s\u001b[0K\u001b[1G164.9 MiB [] 42% 1.1s\u001b[0K\u001b[1G164.9 MiB [] 43% 1.1s\u001b[0K\u001b[1G164.9 MiB [] 44% 1.1s\u001b[0K\u001b[1G164.9 MiB [] 45% 1.0s\u001b[0K\u001b[1G164.9 MiB [] 46% 1.0s\u001b[0K\u001b[1G164.9 MiB [] 48% 1.0s\u001b[0K\u001b[1G164.9 MiB [] 49% 0.9s\u001b[0K\u001b[1G164.9 MiB [] 50% 0.9s\u001b[0K\u001b[1G164.9 MiB [] 52% 0.9s\u001b[0K\u001b[1G164.9 MiB [] 53% 0.8s\u001b[0K\u001b[1G164.9 MiB [] 54% 0.8s\u001b[0K\u001b[1G164.9 MiB [] 55% 0.8s\u001b[0K\u001b[1G164.9 MiB [] 56% 0.8s\u001b[0K\u001b[1G164.9 MiB [] 58% 0.7s\u001b[0K\u001b[1G164.9 MiB [] 59% 0.7s\u001b[0K\u001b[1G164.9 MiB [] 61% 0.7s\u001b[0K\u001b[1G164.9 MiB [] 62% 0.7s\u001b[0K\u001b[1G164.9 MiB [] 63% 0.6s\u001b[0K\u001b[1G164.9 MiB [] 64% 0.6s\u001b[0K\u001b[1G164.9 MiB [] 65% 0.6s\u001b[0K\u001b[1G164.9 MiB [] 67% 0.6s\u001b[0K\u001b[1G164.9 MiB [] 68% 0.5s\u001b[0K\u001b[1G164.9 MiB [] 69% 0.5s\u001b[0K\u001b[1G164.9 MiB [] 70% 0.5s\u001b[0K\u001b[1G164.9 MiB [] 71% 0.5s\u001b[0K\u001b[1G164.9 MiB [] 72% 0.5s\u001b[0K\u001b[1G164.9 MiB [] 73% 0.5s\u001b[0K\u001b[1G164.9 MiB [] 74% 0.4s\u001b[0K\u001b[1G164.9 MiB [] 75% 0.4s\u001b[0K\u001b[1G164.9 MiB [] 76% 0.4s\u001b[0K\u001b[1G164.9 MiB [] 77% 0.4s\u001b[0K\u001b[1G164.9 MiB [] 78% 0.4s\u001b[0K\u001b[1G164.9 MiB [] 79% 0.4s\u001b[0K\u001b[1G164.9 MiB [] 80% 0.3s\u001b[0K\u001b[1G164.9 MiB [] 82% 0.3s\u001b[0K\u001b[1G164.9 MiB [] 83% 0.3s\u001b[0K\u001b[1G164.9 MiB [] 84% 0.3s\u001b[0K\u001b[1G164.9 MiB [] 85% 0.2s\u001b[0K\u001b[1G164.9 MiB [] 87% 0.2s\u001b[0K\u001b[1G164.9 MiB [] 88% 0.2s\u001b[0K\u001b[1G164.9 MiB [] 89% 0.2s\u001b[0K\u001b[1G164.9 MiB [] 91% 0.1s\u001b[0K\u001b[1G164.9 MiB [] 92% 0.1s\u001b[0K\u001b[1G164.9 MiB [] 93% 0.1s\u001b[0K\u001b[1G164.9 MiB [] 94% 0.1s\u001b[0K\u001b[1G164.9 MiB [] 95% 0.1s\u001b[0K\u001b[1G164.9 MiB [] 97% 0.0s\u001b[0K\u001b[1G164.9 MiB [] 98% 0.0s\u001b[0K\u001b[1G164.9 MiB [] 99% 0.0s\u001b[0K\u001b[1G164.9 MiB [] 100% 0.0s\u001b[0K\n",
            "Chromium 134.0.6998.35 (playwright build v1161) downloaded to /root/.cache/ms-playwright/chromium-1161\n",
            "Downloading Chromium Headless Shell 134.0.6998.35 (playwright build v1161)\u001b[2m from https://cdn.playwright.dev/dbazure/download/playwright/builds/chromium/1161/chromium-headless-shell-linux.zip\u001b[22m\n",
            "\u001b[1G100.9 MiB [] 0% 0.0s\u001b[0K\u001b[1G100.9 MiB [] 0% 32.6s\u001b[0K\u001b[1G100.9 MiB [] 0% 28.9s\u001b[0K\u001b[1G100.9 MiB [] 0% 19.5s\u001b[0K\u001b[1G100.9 MiB [] 0% 15.1s\u001b[0K\u001b[1G100.9 MiB [] 0% 11.8s\u001b[0K\u001b[1G100.9 MiB [] 1% 8.4s\u001b[0K\u001b[1G100.9 MiB [] 1% 6.2s\u001b[0K\u001b[1G100.9 MiB [] 3% 4.2s\u001b[0K\u001b[1G100.9 MiB [] 4% 3.4s\u001b[0K\u001b[1G100.9 MiB [] 5% 2.8s\u001b[0K\u001b[1G100.9 MiB [] 7% 2.4s\u001b[0K\u001b[1G100.9 MiB [] 8% 2.2s\u001b[0K\u001b[1G100.9 MiB [] 9% 2.1s\u001b[0K\u001b[1G100.9 MiB [] 9% 2.2s\u001b[0K\u001b[1G100.9 MiB [] 10% 2.1s\u001b[0K\u001b[1G100.9 MiB [] 11% 2.0s\u001b[0K\u001b[1G100.9 MiB [] 13% 1.9s\u001b[0K\u001b[1G100.9 MiB [] 15% 1.7s\u001b[0K\u001b[1G100.9 MiB [] 16% 1.7s\u001b[0K\u001b[1G100.9 MiB [] 17% 1.6s\u001b[0K\u001b[1G100.9 MiB [] 18% 1.6s\u001b[0K\u001b[1G100.9 MiB [] 20% 1.6s\u001b[0K\u001b[1G100.9 MiB [] 22% 1.5s\u001b[0K\u001b[1G100.9 MiB [] 23% 1.4s\u001b[0K\u001b[1G100.9 MiB [] 25% 1.3s\u001b[0K\u001b[1G100.9 MiB [] 26% 1.3s\u001b[0K\u001b[1G100.9 MiB [] 27% 1.3s\u001b[0K\u001b[1G100.9 MiB [] 29% 1.2s\u001b[0K\u001b[1G100.9 MiB [] 30% 1.1s\u001b[0K\u001b[1G100.9 MiB [] 32% 1.1s\u001b[0K\u001b[1G100.9 MiB [] 34% 1.0s\u001b[0K\u001b[1G100.9 MiB [] 36% 1.0s\u001b[0K\u001b[1G100.9 MiB [] 37% 1.0s\u001b[0K\u001b[1G100.9 MiB [] 38% 1.0s\u001b[0K\u001b[1G100.9 MiB [] 39% 1.0s\u001b[0K\u001b[1G100.9 MiB [] 42% 0.9s\u001b[0K\u001b[1G100.9 MiB [] 44% 0.8s\u001b[0K\u001b[1G100.9 MiB [] 46% 0.9s\u001b[0K\u001b[1G100.9 MiB [] 46% 1.0s\u001b[0K\u001b[1G100.9 MiB [] 46% 1.1s\u001b[0K\u001b[1G100.9 MiB [] 47% 1.0s\u001b[0K\u001b[1G100.9 MiB [] 49% 1.0s\u001b[0K\u001b[1G100.9 MiB [] 50% 0.9s\u001b[0K\u001b[1G100.9 MiB [] 51% 0.9s\u001b[0K\u001b[1G100.9 MiB [] 53% 0.9s\u001b[0K\u001b[1G100.9 MiB [] 56% 0.8s\u001b[0K\u001b[1G100.9 MiB [] 58% 0.7s\u001b[0K\u001b[1G100.9 MiB [] 60% 0.7s\u001b[0K\u001b[1G100.9 MiB [] 61% 0.7s\u001b[0K\u001b[1G100.9 MiB [] 63% 0.6s\u001b[0K\u001b[1G100.9 MiB [] 66% 0.6s\u001b[0K\u001b[1G100.9 MiB [] 68% 0.5s\u001b[0K\u001b[1G100.9 MiB [] 69% 0.5s\u001b[0K\u001b[1G100.9 MiB [] 71% 0.5s\u001b[0K\u001b[1G100.9 MiB [] 74% 0.4s\u001b[0K\u001b[1G100.9 MiB [] 75% 0.4s\u001b[0K\u001b[1G100.9 MiB [] 78% 0.3s\u001b[0K\u001b[1G100.9 MiB [] 80% 0.3s\u001b[0K\u001b[1G100.9 MiB [] 82% 0.3s\u001b[0K\u001b[1G100.9 MiB [] 84% 0.2s\u001b[0K\u001b[1G100.9 MiB [] 86% 0.2s\u001b[0K\u001b[1G100.9 MiB [] 89% 0.2s\u001b[0K\u001b[1G100.9 MiB [] 91% 0.1s\u001b[0K\u001b[1G100.9 MiB [] 93% 0.1s\u001b[0K\u001b[1G100.9 MiB [] 94% 0.1s\u001b[0K\u001b[1G100.9 MiB [] 95% 0.1s\u001b[0K\u001b[1G100.9 MiB [] 97% 0.0s\u001b[0K\u001b[1G100.9 MiB [] 98% 0.0s\u001b[0K\u001b[1G100.9 MiB [] 100% 0.0s\u001b[0K\n",
            "Chromium Headless Shell 134.0.6998.35 (playwright build v1161) downloaded to /root/.cache/ms-playwright/chromium_headless_shell-1161\n",
            "Downloading Firefox 135.0 (playwright build v1475)\u001b[2m from https://cdn.playwright.dev/dbazure/download/playwright/builds/firefox/1475/firefox-ubuntu-22.04.zip\u001b[22m\n",
            "\u001b[1G90.6 MiB [] 0% 0.0s\u001b[0K\u001b[1G90.6 MiB [] 0% 50.1s\u001b[0K\u001b[1G90.6 MiB [] 0% 52.9s\u001b[0K\u001b[1G90.6 MiB [] 0% 37.5s\u001b[0K\u001b[1G90.6 MiB [] 0% 24.0s\u001b[0K\u001b[1G90.6 MiB [] 0% 18.1s\u001b[0K\u001b[1G90.6 MiB [] 0% 13.4s\u001b[0K\u001b[1G90.6 MiB [] 1% 9.1s\u001b[0K\u001b[1G90.6 MiB [] 1% 7.3s\u001b[0K\u001b[1G90.6 MiB [] 2% 7.1s\u001b[0K\u001b[1G90.6 MiB [] 3% 5.2s\u001b[0K\u001b[1G90.6 MiB [] 4% 3.9s\u001b[0K\u001b[1G90.6 MiB [] 6% 3.1s\u001b[0K\u001b[1G90.6 MiB [] 8% 2.6s\u001b[0K\u001b[1G90.6 MiB [] 9% 2.3s\u001b[0K\u001b[1G90.6 MiB [] 10% 2.2s\u001b[0K\u001b[1G90.6 MiB [] 11% 2.1s\u001b[0K\u001b[1G90.6 MiB [] 12% 2.1s\u001b[0K\u001b[1G90.6 MiB [] 14% 1.9s\u001b[0K\u001b[1G90.6 MiB [] 15% 1.8s\u001b[0K\u001b[1G90.6 MiB [] 17% 1.6s\u001b[0K\u001b[1G90.6 MiB [] 18% 1.6s\u001b[0K\u001b[1G90.6 MiB [] 20% 1.5s\u001b[0K\u001b[1G90.6 MiB [] 22% 1.4s\u001b[0K\u001b[1G90.6 MiB [] 23% 1.4s\u001b[0K\u001b[1G90.6 MiB [] 24% 1.4s\u001b[0K\u001b[1G90.6 MiB [] 26% 1.3s\u001b[0K\u001b[1G90.6 MiB [] 27% 1.3s\u001b[0K\u001b[1G90.6 MiB [] 28% 1.2s\u001b[0K\u001b[1G90.6 MiB [] 30% 1.2s\u001b[0K\u001b[1G90.6 MiB [] 32% 1.1s\u001b[0K\u001b[1G90.6 MiB [] 34% 1.0s\u001b[0K\u001b[1G90.6 MiB [] 36% 1.0s\u001b[0K\u001b[1G90.6 MiB [] 38% 0.9s\u001b[0K\u001b[1G90.6 MiB [] 40% 0.9s\u001b[0K\u001b[1G90.6 MiB [] 41% 0.9s\u001b[0K\u001b[1G90.6 MiB [] 43% 0.8s\u001b[0K\u001b[1G90.6 MiB [] 45% 0.8s\u001b[0K\u001b[1G90.6 MiB [] 48% 0.7s\u001b[0K\u001b[1G90.6 MiB [] 49% 0.7s\u001b[0K\u001b[1G90.6 MiB [] 51% 0.7s\u001b[0K\u001b[1G90.6 MiB [] 54% 0.6s\u001b[0K\u001b[1G90.6 MiB [] 56% 0.6s\u001b[0K\u001b[1G90.6 MiB [] 57% 0.5s\u001b[0K\u001b[1G90.6 MiB [] 60% 0.5s\u001b[0K\u001b[1G90.6 MiB [] 62% 0.5s\u001b[0K\u001b[1G90.6 MiB [] 64% 0.4s\u001b[0K\u001b[1G90.6 MiB [] 66% 0.4s\u001b[0K\u001b[1G90.6 MiB [] 68% 0.4s\u001b[0K\u001b[1G90.6 MiB [] 70% 0.4s\u001b[0K\u001b[1G90.6 MiB [] 72% 0.3s\u001b[0K\u001b[1G90.6 MiB [] 74% 0.3s\u001b[0K\u001b[1G90.6 MiB [] 76% 0.3s\u001b[0K\u001b[1G90.6 MiB [] 79% 0.2s\u001b[0K\u001b[1G90.6 MiB [] 81% 0.2s\u001b[0K\u001b[1G90.6 MiB [] 82% 0.2s\u001b[0K\u001b[1G90.6 MiB [] 85% 0.2s\u001b[0K\u001b[1G90.6 MiB [] 87% 0.1s\u001b[0K\u001b[1G90.6 MiB [] 90% 0.1s\u001b[0K\u001b[1G90.6 MiB [] 92% 0.1s\u001b[0K\u001b[1G90.6 MiB [] 95% 0.1s\u001b[0K\u001b[1G90.6 MiB [] 97% 0.0s\u001b[0K\u001b[1G90.6 MiB [] 99% 0.0s\u001b[0K\u001b[1G90.6 MiB [] 100% 0.0s\u001b[0K\n",
            "Firefox 135.0 (playwright build v1475) downloaded to /root/.cache/ms-playwright/firefox-1475\n",
            "Downloading Webkit 18.4 (playwright build v2140)\u001b[2m from https://cdn.playwright.dev/dbazure/download/playwright/builds/webkit/2140/webkit-ubuntu-22.04.zip\u001b[22m\n",
            "\u001b[1G92.3 MiB [] 0% 0.0s\u001b[0K\u001b[1G92.3 MiB [] 0% 54.1s\u001b[0K\u001b[1G92.3 MiB [] 0% 59.3s\u001b[0K\u001b[1G92.3 MiB [] 0% 62.9s\u001b[0K\u001b[1G92.3 MiB [] 0% 46.3s\u001b[0K\u001b[1G92.3 MiB [] 0% 30.7s\u001b[0K\u001b[1G92.3 MiB [] 0% 24.2s\u001b[0K\u001b[1G92.3 MiB [] 0% 17.7s\u001b[0K\u001b[1G92.3 MiB [] 1% 13.0s\u001b[0K\u001b[1G92.3 MiB [] 1% 9.1s\u001b[0K\u001b[1G92.3 MiB [] 2% 6.2s\u001b[0K\u001b[1G92.3 MiB [] 4% 4.6s\u001b[0K\u001b[1G92.3 MiB [] 5% 3.7s\u001b[0K\u001b[1G92.3 MiB [] 7% 2.9s\u001b[0K\u001b[1G92.3 MiB [] 9% 2.4s\u001b[0K\u001b[1G92.3 MiB [] 10% 2.2s\u001b[0K\u001b[1G92.3 MiB [] 11% 2.1s\u001b[0K\u001b[1G92.3 MiB [] 12% 2.1s\u001b[0K\u001b[1G92.3 MiB [] 13% 2.0s\u001b[0K\u001b[1G92.3 MiB [] 14% 1.9s\u001b[0K\u001b[1G92.3 MiB [] 15% 1.8s\u001b[0K\u001b[1G92.3 MiB [] 17% 1.7s\u001b[0K\u001b[1G92.3 MiB [] 19% 1.6s\u001b[0K\u001b[1G92.3 MiB [] 20% 1.5s\u001b[0K\u001b[1G92.3 MiB [] 22% 1.4s\u001b[0K\u001b[1G92.3 MiB [] 24% 1.3s\u001b[0K\u001b[1G92.3 MiB [] 25% 1.3s\u001b[0K\u001b[1G92.3 MiB [] 26% 1.3s\u001b[0K\u001b[1G92.3 MiB [] 27% 1.2s\u001b[0K\u001b[1G92.3 MiB [] 29% 1.2s\u001b[0K\u001b[1G92.3 MiB [] 30% 1.2s\u001b[0K\u001b[1G92.3 MiB [] 31% 1.2s\u001b[0K\u001b[1G92.3 MiB [] 32% 1.1s\u001b[0K\u001b[1G92.3 MiB [] 33% 1.1s\u001b[0K\u001b[1G92.3 MiB [] 34% 1.1s\u001b[0K\u001b[1G92.3 MiB [] 35% 1.1s\u001b[0K\u001b[1G92.3 MiB [] 36% 1.0s\u001b[0K\u001b[1G92.3 MiB [] 38% 1.0s\u001b[0K\u001b[1G92.3 MiB [] 40% 0.9s\u001b[0K\u001b[1G92.3 MiB [] 40% 1.0s\u001b[0K\u001b[1G92.3 MiB [] 42% 0.9s\u001b[0K\u001b[1G92.3 MiB [] 44% 0.9s\u001b[0K\u001b[1G92.3 MiB [] 46% 0.8s\u001b[0K\u001b[1G92.3 MiB [] 49% 0.7s\u001b[0K\u001b[1G92.3 MiB [] 51% 0.7s\u001b[0K\u001b[1G92.3 MiB [] 53% 0.7s\u001b[0K\u001b[1G92.3 MiB [] 55% 0.6s\u001b[0K\u001b[1G92.3 MiB [] 56% 0.6s\u001b[0K\u001b[1G92.3 MiB [] 58% 0.6s\u001b[0K\u001b[1G92.3 MiB [] 60% 0.5s\u001b[0K\u001b[1G92.3 MiB [] 62% 0.5s\u001b[0K\u001b[1G92.3 MiB [] 64% 0.5s\u001b[0K\u001b[1G92.3 MiB [] 66% 0.4s\u001b[0K\u001b[1G92.3 MiB [] 67% 0.4s\u001b[0K\u001b[1G92.3 MiB [] 68% 0.4s\u001b[0K\u001b[1G92.3 MiB [] 70% 0.4s\u001b[0K\u001b[1G92.3 MiB [] 72% 0.3s\u001b[0K\u001b[1G92.3 MiB [] 74% 0.3s\u001b[0K\u001b[1G92.3 MiB [] 77% 0.3s\u001b[0K\u001b[1G92.3 MiB [] 79% 0.3s\u001b[0K\u001b[1G92.3 MiB [] 80% 0.2s\u001b[0K\u001b[1G92.3 MiB [] 82% 0.2s\u001b[0K\u001b[1G92.3 MiB [] 84% 0.2s\u001b[0K\u001b[1G92.3 MiB [] 85% 0.2s\u001b[0K\u001b[1G92.3 MiB [] 87% 0.1s\u001b[0K\u001b[1G92.3 MiB [] 89% 0.1s\u001b[0K\u001b[1G92.3 MiB [] 91% 0.1s\u001b[0K\u001b[1G92.3 MiB [] 93% 0.1s\u001b[0K\u001b[1G92.3 MiB [] 95% 0.0s\u001b[0K\u001b[1G92.3 MiB [] 97% 0.0s\u001b[0K\u001b[1G92.3 MiB [] 100% 0.0s\u001b[0K\n",
            "Webkit 18.4 (playwright build v2140) downloaded to /root/.cache/ms-playwright/webkit-2140\n",
            "Downloading FFMPEG playwright build v1011\u001b[2m from https://cdn.playwright.dev/dbazure/download/playwright/builds/ffmpeg/1011/ffmpeg-linux.zip\u001b[22m\n",
            "\u001b[1G2.3 MiB [] 0% 0.0s\u001b[0K\u001b[1G2.3 MiB [] 5% 0.3s\u001b[0K\u001b[1G2.3 MiB [] 19% 0.1s\u001b[0K\u001b[1G2.3 MiB [] 62% 0.0s\u001b[0K\u001b[1G2.3 MiB [] 100% 0.0s\u001b[0K\n",
            "FFMPEG playwright build v1011 downloaded to /root/.cache/ms-playwright/ffmpeg-1011\n",
            "Playwright Host validation warning: \n",
            "╔══════════════════════════════════════════════════════╗\n",
            "║ Host system is missing dependencies to run browsers. ║\n",
            "║ Missing libraries:                                   ║\n",
            "║     libwoff2dec.so.1.0.2                             ║\n",
            "║     libgstgl-1.0.so.0                                ║\n",
            "║     libgstcodecparsers-1.0.so.0                      ║\n",
            "║     libavif.so.13                                    ║\n",
            "║     libharfbuzz-icu.so.0                             ║\n",
            "║     libenchant-2.so.2                                ║\n",
            "║     libsecret-1.so.0                                 ║\n",
            "║     libhyphen.so.0                                   ║\n",
            "║     libmanette-0.2.so.0                              ║\n",
            "╚══════════════════════════════════════════════════════╝\n",
            "    at validateDependenciesLinux (/usr/local/lib/python3.11/dist-packages/playwright/driver/package/lib/server/registry/dependencies.js:216:9)\n",
            "\u001b[90m    at process.processTicksAndRejections (node:internal/process/task_queues:105:5)\u001b[39m\n",
            "    at async Registry._validateHostRequirements (/usr/local/lib/python3.11/dist-packages/playwright/driver/package/lib/server/registry/index.js:859:52)\n",
            "    at async Registry._validateHostRequirementsForExecutableIfNeeded (/usr/local/lib/python3.11/dist-packages/playwright/driver/package/lib/server/registry/index.js:957:7)\n",
            "    at async Registry.validateHostRequirementsForExecutablesIfNeeded (/usr/local/lib/python3.11/dist-packages/playwright/driver/package/lib/server/registry/index.js:946:43)\n",
            "    at async t.<anonymous> (/usr/local/lib/python3.11/dist-packages/playwright/driver/package/lib/cli/program.js:122:7)\n"
          ]
        }
      ]
    },
    {
      "cell_type": "code",
      "source": [
        "!libwoff2dec.so.1.0.2 install\n",
        "!libgstgl-1.0.so.0 install\n",
        "!libgstcodecparsers-1.0.so.0 install\n",
        "!libavif.so.13 install\n",
        "!libharfbuzz-icu.so.0 install\n",
        "!libenchant-2.so.2 install\n",
        "!libsecret-1.so.0 install\n",
        "!libhyphen.so.0 install\n",
        "!libmanette-0.2.so.0 install"
      ],
      "metadata": {
        "id": "IfCzaTkJs10e",
        "outputId": "28805184-5861-4239-ad40-d977abb9c75f",
        "colab": {
          "base_uri": "https://localhost:8080/"
        }
      },
      "execution_count": 10,
      "outputs": [
        {
          "output_type": "stream",
          "name": "stdout",
          "text": [
            "/bin/bash: line 1: libwoff2dec.so.1.0.2: command not found\n",
            "/bin/bash: line 1: libgstgl-1.0.so.0: command not found\n",
            "/bin/bash: line 1: libgstcodecparsers-1.0.so.0: command not found\n",
            "/bin/bash: line 1: libavif.so.13: command not found\n",
            "/bin/bash: line 1: libharfbuzz-icu.so.0: command not found\n",
            "/bin/bash: line 1: libenchant-2.so.2: command not found\n",
            "/bin/bash: line 1: libsecret-1.so.0: command not found\n",
            "/bin/bash: line 1: libhyphen.so.0: command not found\n",
            "/bin/bash: line 1: libmanette-0.2.so.0: command not found\n"
          ]
        }
      ]
    },
    {
      "cell_type": "markdown",
      "metadata": {
        "id": "_ImG74Y_r-ML"
      },
      "source": [
        "## Instantiating a Browser Toolkit\n",
        "\n",
        "It's always recommended to instantiate using the from_browser method so that the browser context is properly initialized and managed, ensuring seamless interaction and resource optimization."
      ]
    },
    {
      "cell_type": "code",
      "execution_count": 11,
      "metadata": {
        "tags": [],
        "id": "9N-ezuVOr-MM",
        "outputId": "91cce96e-a7c9-468d-866e-6875011ef575",
        "colab": {
          "base_uri": "https://localhost:8080/"
        }
      },
      "outputs": [
        {
          "output_type": "execute_result",
          "data": {
            "text/plain": [
              "[ClickTool(async_browser=<Browser type=<BrowserType name=chromium executable_path=/root/.cache/ms-playwright/chromium-1161/chrome-linux/chrome> version=134.0.6998.35>),\n",
              " NavigateTool(async_browser=<Browser type=<BrowserType name=chromium executable_path=/root/.cache/ms-playwright/chromium-1161/chrome-linux/chrome> version=134.0.6998.35>),\n",
              " NavigateBackTool(async_browser=<Browser type=<BrowserType name=chromium executable_path=/root/.cache/ms-playwright/chromium-1161/chrome-linux/chrome> version=134.0.6998.35>),\n",
              " ExtractTextTool(async_browser=<Browser type=<BrowserType name=chromium executable_path=/root/.cache/ms-playwright/chromium-1161/chrome-linux/chrome> version=134.0.6998.35>),\n",
              " ExtractHyperlinksTool(async_browser=<Browser type=<BrowserType name=chromium executable_path=/root/.cache/ms-playwright/chromium-1161/chrome-linux/chrome> version=134.0.6998.35>),\n",
              " GetElementsTool(async_browser=<Browser type=<BrowserType name=chromium executable_path=/root/.cache/ms-playwright/chromium-1161/chrome-linux/chrome> version=134.0.6998.35>),\n",
              " CurrentWebPageTool(async_browser=<Browser type=<BrowserType name=chromium executable_path=/root/.cache/ms-playwright/chromium-1161/chrome-linux/chrome> version=134.0.6998.35>)]"
            ]
          },
          "metadata": {},
          "execution_count": 11
        }
      ],
      "source": [
        "async_browser = create_async_playwright_browser()\n",
        "toolkit = PlayWrightBrowserToolkit.from_browser(async_browser=async_browser)\n",
        "tools = toolkit.get_tools()\n",
        "tools"
      ]
    },
    {
      "cell_type": "code",
      "execution_count": 12,
      "metadata": {
        "tags": [],
        "id": "VfuDVImtr-MM"
      },
      "outputs": [],
      "source": [
        "tools_by_name = {tool.name: tool for tool in tools}\n",
        "navigate_tool = tools_by_name[\"navigate_browser\"]\n",
        "get_elements_tool = tools_by_name[\"get_elements\"]"
      ]
    },
    {
      "cell_type": "code",
      "execution_count": 15,
      "metadata": {
        "tags": [],
        "id": "IzOdf1VKr-MN",
        "outputId": "20d2b139-aa21-4225-eef3-b939b9e7a44f",
        "colab": {
          "base_uri": "https://localhost:8080/",
          "height": 36
        }
      },
      "outputs": [
        {
          "output_type": "execute_result",
          "data": {
            "text/plain": [
              "'Navigating to https://web.archive.org/web/20230428133211/https://cnn.com/world returned status code 200'"
            ],
            "application/vnd.google.colaboratory.intrinsic+json": {
              "type": "string"
            }
          },
          "metadata": {},
          "execution_count": 15
        }
      ],
      "source": [
        "await navigate_tool.arun(\n",
        "    {\n",
        "        \"url\": \"https://web.archive.org/web/20230428133211/https://cnn.com/world\",\n",
        "        \"timeout\": 60000  # Increased timeout to 60 seconds\n",
        "    }\n",
        ")\n",
        "# You may need to pass `timeout` as an additional parameter to `arun` that will be subsequently passed to `page.goto()`\n",
        "await navigate_tool.arun(\n",
        "    {\n",
        "        \"url\": \"https://web.archive.org/web/20230428133211/https://cnn.com/world\"\n",
        "    },\n",
        "    timeout=60000\n",
        ")"
      ]
    },
    {
      "cell_type": "code",
      "execution_count": 16,
      "metadata": {
        "tags": [],
        "id": "MQ08zuTnr-MO",
        "outputId": "1ea92299-ec61-485c-bebd-994981a5e50b",
        "colab": {
          "base_uri": "https://localhost:8080/",
          "height": 123
        }
      },
      "outputs": [
        {
          "output_type": "execute_result",
          "data": {
            "text/plain": [
              "'[{\"innerText\": \"These Ukrainian veterinarians are risking their lives to care for dogs and cats in the war zone\"}, {\"innerText\": \"Life in the ocean’s ‘twilight zone’ could disappear due to the climate crisis\"}, {\"innerText\": \"Clashes renew in West Darfur as food and water shortages worsen in Sudan violence\"}, {\"innerText\": \"Thai policeman’s wife investigated over alleged murder and a dozen other poison cases\"}, {\"innerText\": \"American teacher escaped Sudan on French evacuation plane, with no help offered back home\"}, {\"innerText\": \"Dubai’s emerging hip-hop scene is finding its voice\"}, {\"innerText\": \"How an underwater film inspired a marine protected area off Kenya’s coast\"}, {\"innerText\": \"The Iranian drones deployed by Russia in Ukraine are powered by stolen Western technology, research reveals\"}, {\"innerText\": \"India says border violations erode ‘entire basis’ of ties with China\"}, {\"innerText\": \"Australian police sift through 3,000 tons of trash for missing woman’s remains\"}, {\"innerText\": \"As US and Philippine defense ties grow, China warns over Taiwan tensions\"}, {\"innerText\": \"Don McLean offers duet with South Korean president who sang ‘American Pie’ to Biden\"}, {\"innerText\": \"Almost two-thirds of elephant habitat lost across Asia, study finds\"}, {\"innerText\": \"‘We don’t sleep … I would call it fainting’: Working as a doctor in Sudan’s crisis\"}, {\"innerText\": \"Kenya arrests second pastor to face criminal charges ‘related to mass killing of his followers’\"}, {\"innerText\": \"Russia launches deadly wave of strikes across Ukraine\"}, {\"innerText\": \"Woman forced to leave her forever home or ‘walk to your death’ she says\"}, {\"innerText\": \"U.S. House Speaker Kevin McCarthy weighs in on Disney-DeSantis feud\"}, {\"innerText\": \"Two sides agree to extend Sudan ceasefire\"}, {\"innerText\": \"Spanish Leopard 2 tanks are on their way to Ukraine, defense minister confirms\"}, {\"innerText\": \"Flambéed pizza thought to have sparked deadly Madrid restaurant fire\"}, {\"innerText\": \"Another bomb found in Belgorod just days after Russia accidentally struck the city\"}, {\"innerText\": \"A Black teen’s murder sparked a crisis over racism in British policing. Thirty years on, little has changed\"}, {\"innerText\": \"Belgium destroys shipment of American beer after taking issue with ‘Champagne of Beer’ slogan\"}, {\"innerText\": \"UK Prime Minister Rishi Sunak rocked by resignation of top ally Raab over bullying allegations\"}, {\"innerText\": \"Iran’s Navy seizes Marshall Islands-flagged ship\"}, {\"innerText\": \"A divided Israel stands at a perilous crossroads on its 75th birthday\"}, {\"innerText\": \"Palestinian reporter breaks barriers by reporting in Hebrew on Israeli TV\"}, {\"innerText\": \"One-fifth of water pollution comes from textile dyes. But a shellfish-inspired solution could clean it up\"}, {\"innerText\": \"‘People sacrificed their lives for just\\xa010 dollars’: At least 78 killed in Yemen crowd surge\"}, {\"innerText\": \"Israeli police say two men shot near Jewish tomb in Jerusalem in suspected ‘terror attack’\"}, {\"innerText\": \"King Charles III’s coronation: Who’s performing at the ceremony\"}, {\"innerText\": \"The week in 33 photos\"}, {\"innerText\": \"Hong Kong’s endangered turtles\"}, {\"innerText\": \"In pictures: Britain’s Queen Camilla\"}, {\"innerText\": \"Catastrophic drought that’s pushed millions into crisis made 100 times more likely by climate change, analysis finds\"}, {\"innerText\": \"For years, a UK mining giant was untouchable in Zambia for pollution until a former miner’s son took them on\"}, {\"innerText\": \"Former Sudanese minister Ahmed Haroun wanted on war crimes charges freed from Khartoum prison\"}, {\"innerText\": \"WHO warns of ‘biological risk’ after Sudan fighters seize lab, as violence mars US-brokered ceasefire\"}, {\"innerText\": \"How Colombia’s Petro, a former leftwing guerrilla, found his opening in Washington\"}, {\"innerText\": \"Bolsonaro accidentally created Facebook post questioning Brazil election results, say his attorneys\"}, {\"innerText\": \"Crowd kills over a dozen suspected gang members in Haiti\"}, {\"innerText\": \"Thousands of tequila bottles containing liquid meth seized\"}, {\"innerText\": \"Why send a US stealth submarine to South Korea – and tell the world about it?\"}, {\"innerText\": \"Fukushima’s fishing industry survived a nuclear disaster. 12 years on, it fears Tokyo’s next move may finish it off\"}, {\"innerText\": \"Singapore executes man for trafficking two pounds of cannabis\"}, {\"innerText\": \"Conservative Thai party looks to woo voters with promise to legalize sex toys\"}, {\"innerText\": \"Inside the Italian village being repopulated by Americans\"}, {\"innerText\": \"Strikes, soaring airfares and yo-yoing hotel fees: A traveler’s guide to the coronation\"}, {\"innerText\": \"A year in Azerbaijan: From spring’s Grand Prix to winter ski adventures\"}, {\"innerText\": \"The bicycle mayor peddling a two-wheeled revolution in Cape Town\"}, {\"innerText\": \"Tokyo ramen shop bans customers from using their phones while eating\"}, {\"innerText\": \"South African opera star will perform at coronation of King Charles III\"}, {\"innerText\": \"Luxury loot under the hammer: France auctions goods seized from drug dealers\"}, {\"innerText\": \"Judy Blume’s books were formative for generations of readers. Here’s why they endure\"}, {\"innerText\": \"Craft, salvage and sustainability take center stage at Milan Design Week\"}, {\"innerText\": \"Life-sized chocolate King Charles III sculpture unveiled to celebrate coronation\"}, {\"innerText\": \"Severe storms to strike the South again as millions in Texas could see damaging winds and hail\"}, {\"innerText\": \"The South is in the crosshairs of severe weather again, as the multi-day threat of large hail and tornadoes continues\"}, {\"innerText\": \"Spring snowmelt has cities along the Mississippi bracing for flooding in homes and businesses\"}, {\"innerText\": \"Know the difference between a tornado watch, a tornado warning and a tornado emergency\"}, {\"innerText\": \"Reporter spotted familiar face covering Sudan evacuation. See what happened next\"}, {\"innerText\": \"This country will soon become the world’s most populated\"}, {\"innerText\": \"April 27, 2023 - Russia-Ukraine news\"}, {\"innerText\": \"‘Often they shoot at each other’: Ukrainian drone operator details chaos in Russian ranks\"}, {\"innerText\": \"Hear from family members of Americans stuck in Sudan frustrated with US response\"}, {\"innerText\": \"U.S. talk show host Jerry Springer dies at 79\"}, {\"innerText\": \"Bureaucracy stalling at least one family’s evacuation from Sudan\"}, {\"innerText\": \"Girl to get life-saving treatment for rare immune disease\"}, {\"innerText\": \"Haiti’s crime rate more than doubles in a year\"}, {\"innerText\": \"Ocean census aims to discover 100,000 previously unknown marine species\"}, {\"innerText\": \"Wall Street Journal editor discusses reporter’s arrest in Moscow\"}, {\"innerText\": \"Can Tunisia’s democracy be saved?\"}, {\"innerText\": \"Yasmeen Lari, ‘starchitect’ turned social engineer, wins one of architecture’s most coveted prizes\"}, {\"innerText\": \"A massive, newly restored Frank Lloyd Wright mansion is up for sale\"}, {\"innerText\": \"Are these the most sustainable architectural projects in the world?\"}, {\"innerText\": \"Step inside a $72 million London townhouse in a converted army barracks\"}, {\"innerText\": \"A 3D-printing company is preparing to build on the lunar surface. But first, a moonshot at home\"}, {\"innerText\": \"Simona Halep says ‘the stress is huge’ as she battles to return to tennis following positive drug test\"}, {\"innerText\": \"Barcelona reaches third straight Women’s Champions League final with draw against Chelsea\"}, {\"innerText\": \"Wrexham: An intoxicating tale of Hollywood glamor and sporting romance\"}, {\"innerText\": \"Shohei Ohtani comes within inches of making yet more MLB history in Angels win\"}, {\"innerText\": \"This CNN Hero is recruiting recreational divers to help rebuild reefs in Florida one coral at a time\"}, {\"innerText\": \"This CNN Hero offers judgment-free veterinary care for the pets of those experiencing homelessness\"}, {\"innerText\": \"Don’t give up on milestones: A CNN Hero’s message for Autism Awareness Month\"}, {\"innerText\": \"CNN Hero of the Year Nelly Cheboi returned to Kenya with plans to lift more students out of poverty\"}]'"
            ],
            "application/vnd.google.colaboratory.intrinsic+json": {
              "type": "string"
            }
          },
          "metadata": {},
          "execution_count": 16
        }
      ],
      "source": [
        "# The browser is shared across tools, so the agent can interact in a stateful manner\n",
        "await get_elements_tool.arun(\n",
        "    {\"selector\": \".container__headline\", \"attributes\": [\"innerText\"]}\n",
        ")"
      ]
    },
    {
      "cell_type": "code",
      "execution_count": 17,
      "metadata": {
        "tags": [],
        "id": "roOjzpw8r-MO",
        "outputId": "46eb4785-5f20-4024-b759-3ce991a4c9fb",
        "colab": {
          "base_uri": "https://localhost:8080/",
          "height": 36
        }
      },
      "outputs": [
        {
          "output_type": "execute_result",
          "data": {
            "text/plain": [
              "'https://web.archive.org/web/20230428133211/https://cnn.com/world'"
            ],
            "application/vnd.google.colaboratory.intrinsic+json": {
              "type": "string"
            }
          },
          "metadata": {},
          "execution_count": 17
        }
      ],
      "source": [
        "# If the agent wants to remember the current webpage, it can use the `current_webpage` tool\n",
        "await tools_by_name[\"current_webpage\"].arun({})"
      ]
    },
    {
      "cell_type": "markdown",
      "metadata": {
        "id": "Grqu60zSr-MP"
      },
      "source": [
        "## Use within an Agent\n",
        "\n",
        "Several of the browser tools are `StructuredTool`'s, meaning they expect multiple arguments. These aren't compatible (out of the box) with agents older than the `STRUCTURED_CHAT_ZERO_SHOT_REACT_DESCRIPTION`"
      ]
    },
    {
      "cell_type": "code",
      "source": [
        "!pip install langchain_groq"
      ],
      "metadata": {
        "collapsed": true,
        "id": "Y5vEGBzVutNH",
        "outputId": "554ca11d-61d2-451e-c674-62e2f1d972fa",
        "colab": {
          "base_uri": "https://localhost:8080/"
        }
      },
      "execution_count": 18,
      "outputs": [
        {
          "output_type": "stream",
          "name": "stdout",
          "text": [
            "Collecting langchain_groq\n",
            "  Downloading langchain_groq-0.3.1-py3-none-any.whl.metadata (2.6 kB)\n",
            "Requirement already satisfied: langchain-core<1.0.0,>=0.3.47 in /usr/local/lib/python3.11/dist-packages (from langchain_groq) (0.3.47)\n",
            "Collecting groq<1,>=0.4.1 (from langchain_groq)\n",
            "  Downloading groq-0.20.0-py3-none-any.whl.metadata (15 kB)\n",
            "Requirement already satisfied: anyio<5,>=3.5.0 in /usr/local/lib/python3.11/dist-packages (from groq<1,>=0.4.1->langchain_groq) (4.9.0)\n",
            "Requirement already satisfied: distro<2,>=1.7.0 in /usr/local/lib/python3.11/dist-packages (from groq<1,>=0.4.1->langchain_groq) (1.9.0)\n",
            "Requirement already satisfied: httpx<1,>=0.23.0 in /usr/local/lib/python3.11/dist-packages (from groq<1,>=0.4.1->langchain_groq) (0.28.1)\n",
            "Requirement already satisfied: pydantic<3,>=1.9.0 in /usr/local/lib/python3.11/dist-packages (from groq<1,>=0.4.1->langchain_groq) (2.10.6)\n",
            "Requirement already satisfied: sniffio in /usr/local/lib/python3.11/dist-packages (from groq<1,>=0.4.1->langchain_groq) (1.3.1)\n",
            "Requirement already satisfied: typing-extensions<5,>=4.10 in /usr/local/lib/python3.11/dist-packages (from groq<1,>=0.4.1->langchain_groq) (4.12.2)\n",
            "Requirement already satisfied: langsmith<0.4,>=0.1.125 in /usr/local/lib/python3.11/dist-packages (from langchain-core<1.0.0,>=0.3.47->langchain_groq) (0.3.18)\n",
            "Requirement already satisfied: tenacity!=8.4.0,<10.0.0,>=8.1.0 in /usr/local/lib/python3.11/dist-packages (from langchain-core<1.0.0,>=0.3.47->langchain_groq) (9.0.0)\n",
            "Requirement already satisfied: jsonpatch<2.0,>=1.33 in /usr/local/lib/python3.11/dist-packages (from langchain-core<1.0.0,>=0.3.47->langchain_groq) (1.33)\n",
            "Requirement already satisfied: PyYAML>=5.3 in /usr/local/lib/python3.11/dist-packages (from langchain-core<1.0.0,>=0.3.47->langchain_groq) (6.0.2)\n",
            "Requirement already satisfied: packaging<25,>=23.2 in /usr/local/lib/python3.11/dist-packages (from langchain-core<1.0.0,>=0.3.47->langchain_groq) (24.2)\n",
            "Requirement already satisfied: idna>=2.8 in /usr/local/lib/python3.11/dist-packages (from anyio<5,>=3.5.0->groq<1,>=0.4.1->langchain_groq) (3.10)\n",
            "Requirement already satisfied: certifi in /usr/local/lib/python3.11/dist-packages (from httpx<1,>=0.23.0->groq<1,>=0.4.1->langchain_groq) (2025.1.31)\n",
            "Requirement already satisfied: httpcore==1.* in /usr/local/lib/python3.11/dist-packages (from httpx<1,>=0.23.0->groq<1,>=0.4.1->langchain_groq) (1.0.7)\n",
            "Requirement already satisfied: h11<0.15,>=0.13 in /usr/local/lib/python3.11/dist-packages (from httpcore==1.*->httpx<1,>=0.23.0->groq<1,>=0.4.1->langchain_groq) (0.14.0)\n",
            "Requirement already satisfied: jsonpointer>=1.9 in /usr/local/lib/python3.11/dist-packages (from jsonpatch<2.0,>=1.33->langchain-core<1.0.0,>=0.3.47->langchain_groq) (3.0.0)\n",
            "Requirement already satisfied: orjson<4.0.0,>=3.9.14 in /usr/local/lib/python3.11/dist-packages (from langsmith<0.4,>=0.1.125->langchain-core<1.0.0,>=0.3.47->langchain_groq) (3.10.15)\n",
            "Requirement already satisfied: requests<3,>=2 in /usr/local/lib/python3.11/dist-packages (from langsmith<0.4,>=0.1.125->langchain-core<1.0.0,>=0.3.47->langchain_groq) (2.32.3)\n",
            "Requirement already satisfied: requests-toolbelt<2.0.0,>=1.0.0 in /usr/local/lib/python3.11/dist-packages (from langsmith<0.4,>=0.1.125->langchain-core<1.0.0,>=0.3.47->langchain_groq) (1.0.0)\n",
            "Requirement already satisfied: zstandard<0.24.0,>=0.23.0 in /usr/local/lib/python3.11/dist-packages (from langsmith<0.4,>=0.1.125->langchain-core<1.0.0,>=0.3.47->langchain_groq) (0.23.0)\n",
            "Requirement already satisfied: annotated-types>=0.6.0 in /usr/local/lib/python3.11/dist-packages (from pydantic<3,>=1.9.0->groq<1,>=0.4.1->langchain_groq) (0.7.0)\n",
            "Requirement already satisfied: pydantic-core==2.27.2 in /usr/local/lib/python3.11/dist-packages (from pydantic<3,>=1.9.0->groq<1,>=0.4.1->langchain_groq) (2.27.2)\n",
            "Requirement already satisfied: charset-normalizer<4,>=2 in /usr/local/lib/python3.11/dist-packages (from requests<3,>=2->langsmith<0.4,>=0.1.125->langchain-core<1.0.0,>=0.3.47->langchain_groq) (3.4.1)\n",
            "Requirement already satisfied: urllib3<3,>=1.21.1 in /usr/local/lib/python3.11/dist-packages (from requests<3,>=2->langsmith<0.4,>=0.1.125->langchain-core<1.0.0,>=0.3.47->langchain_groq) (2.3.0)\n",
            "Downloading langchain_groq-0.3.1-py3-none-any.whl (15 kB)\n",
            "Downloading groq-0.20.0-py3-none-any.whl (124 kB)\n",
            "\u001b[2K   \u001b[90m━━━━━━━━━━━━━━━━━━━━━━━━━━━━━━━━━━━━━━━━\u001b[0m \u001b[32m124.9/124.9 kB\u001b[0m \u001b[31m7.6 MB/s\u001b[0m eta \u001b[36m0:00:00\u001b[0m\n",
            "\u001b[?25hInstalling collected packages: groq, langchain_groq\n",
            "Successfully installed groq-0.20.0 langchain_groq-0.3.1\n"
          ]
        }
      ]
    },
    {
      "cell_type": "code",
      "execution_count": 19,
      "metadata": {
        "tags": [],
        "id": "OxuIynItr-MP",
        "outputId": "7949b389-c9f5-48cb-d442-4d6d04abe551",
        "colab": {
          "base_uri": "https://localhost:8080/"
        }
      },
      "outputs": [
        {
          "output_type": "stream",
          "name": "stderr",
          "text": [
            "<ipython-input-19-701cb483f592>:8: LangChainDeprecationWarning: LangChain agents will continue to be supported, but it is recommended for new use cases to be built with LangGraph. LangGraph offers a more flexible and full-featured framework for building agents, including support for tool-calling, persistence of state, and human-in-the-loop workflows. For details, refer to the `LangGraph documentation <https://langchain-ai.github.io/langgraph/>`_ as well as guides for `Migrating from AgentExecutor <https://python.langchain.com/docs/how_to/migrate_agent/>`_ and LangGraph's `Pre-built ReAct agent <https://langchain-ai.github.io/langgraph/how-tos/create-react-agent/>`_.\n",
            "  agent_chain = initialize_agent(\n"
          ]
        }
      ],
      "source": [
        "from langchain.agents import AgentType, initialize_agent\n",
        "from langchain_groq import ChatGroq\n",
        "\n",
        "groq_api_key=\"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\"\n",
        "\n",
        "llm = ChatGroq(model =\"Gemma2-9b-It\",groq_api_key=groq_api_key)\n",
        "\n",
        "agent_chain = initialize_agent(\n",
        "    tools,\n",
        "    llm,\n",
        "    agent=AgentType.STRUCTURED_CHAT_ZERO_SHOT_REACT_DESCRIPTION,\n",
        "    verbose=True,\n",
        ")"
      ]
    },
    {
      "cell_type": "code",
      "execution_count": 21,
      "metadata": {
        "tags": [],
        "id": "UAfWsdyar-MQ",
        "outputId": "ce39024c-bc9d-4019-a294-b65e94a1fb2e",
        "colab": {
          "base_uri": "https://localhost:8080/"
        }
      },
      "outputs": [
        {
          "output_type": "stream",
          "name": "stdout",
          "text": [
            "\n",
            "\n",
            "\u001b[1m> Entering new AgentExecutor chain...\u001b[0m\n",
            "\u001b[32;1m\u001b[1;3mAction:\n",
            "```json\n",
            "{\n",
            "  \"action\": \"extract_text\",\n",
            "  \"action_input\": \"\"\n",
            "}\n",
            "```\u001b[0m\n",
            "Observation: \u001b[31;1m\u001b[1;3mWorld news - breaking news, video, headlines and opinion | CNN The Wayback Machine - https://web.archive.org/web/20230428133211/https://www.cnn.com/world CNN values your feedback 1. How relevant is this ad to you? 2. Did you encounter any technical issues? No Video player was slow to load content Video content never loaded Ad froze or did not finish loading Video content did not start after ad Audio on ad was too loud Other issues Ad never loaded Ad prevented/slowed the page from loading Content moved around while ad loaded Ad was repetitive to ads I've seen previously Other issues Cancel Submit Thank You! Your effort and contribution in providing this feedback is much\n",
            "                                        appreciated. Close Close icon World Africa Americas Asia Australia China Europe India Middle East United Kingdom More Africa Americas Asia Australia China Europe India Middle East United Kingdom Audio Live TV Log In My Account Settings Log Out Your CNN account Log in to your CNN account Search Log In My Account Settings Log Out Your CNN account Log in to your CNN account Live TV Audio Edition US International Arabic Español Edition US International Arabic Español Africa Americas Asia Australia China Europe India Middle East United Kingdom Follow CNN US Crime + Justice Energy + Environment Extreme Weather Space + Science World Africa Americas Asia Australia China Europe India Middle East United Kingdom Politics SCOTUS Congress Facts First 2020 Election Business Tech Media Calculators Video Markets Pre-markets After-Hours Market Movers Fear & Greed World Markets Investing Markets Now Before the Bell Nightcap Opinion Political Op-Eds Social Commentary Health Life, But Better Fitness Food Sleep Mindfulness Relationships Entertainment Movies Television Celebrity Tech Innovate Gadget Foreseeable Future Mission: Ahead Upstarts Work Transformed Innovative Cities Style Arts Design Fashion Architecture Luxury Beauty Video Travel Destinations Food & Drink Stay Videos Sports Pro Football College Football Basketball Baseball Soccer Olympics Hockey Videos Live TV Digital Studios CNN Films HLN TV Schedule TV Shows A-Z CNNVR CNN Underscored Electronics Fashion Beauty Health & Fitness Home Reviews Deals Money Gifts Travel Outdoors Pets CNN Store Coupons More Photos Longform Investigations CNN Profiles CNN Leadership CNN Newsletters Work for CNN World These Ukrainian veterinarians are risking their lives to care for dogs and cats in the war zone Life in the ocean’s ‘twilight zone’ could disappear due to the climate crisis Clashes renew in West Darfur as food and water shortages worsen in Sudan violence Thai policeman’s wife investigated over alleged murder and a dozen other poison cases American teacher escaped Sudan on French evacuation plane, with no help offered back home Dubai’s emerging hip-hop scene is finding its voice Jahawi Bertolli How an underwater film inspired a marine protected area off Kenya’s coast The Iranian drones deployed by Russia in Ukraine are powered by stolen Western technology, research reveals India says border violations erode ‘entire basis’ of ties with China Australian police sift through 3,000 tons of trash for missing woman’s remains As US and Philippine defense ties grow, China warns over Taiwan tensions Don McLean offers duet with South Korean president who sang ‘American Pie’ to Biden Almost two-thirds of elephant habitat lost across Asia, study finds ‘We don’t sleep … I would call it fainting’: Working as a doctor in Sudan’s crisis Stringer/Reuters Kenya arrests second pastor to face criminal charges ‘related to mass killing of his followers’ Video • Video Russia launches deadly wave of strikes across Ukraine • Video CNN Woman forced to leave her forever home or ‘walk to your death’ she says • Video U.S. House Speaker Kevin McCarthy weighs in on Disney-DeSantis feud • Video Two sides agree to extend Sudan ceasefire Around the world Europe Juan Medina/Reuters Spanish Leopard 2 tanks are on their way to Ukraine, defense minister confirms Flambéed pizza thought to have sparked deadly Madrid restaurant fire Another bomb found in Belgorod just days after Russia accidentally struck the city A Black teen’s murder sparked a crisis over racism in British policing. Thirty years on, little has changed Belgium destroys shipment of American beer after taking issue with ‘Champagne of Beer’ slogan UK Prime Minister Rishi Sunak rocked by resignation of top ally Raab over bullying allegations Middle East Show all Yoruk Isik/Reuters/FILE Iran’s Navy seizes Marshall Islands-flagged ship A divided Israel stands at a perilous crossroads on its 75th birthday Palestinian reporter breaks barriers by reporting in Hebrew on Israeli TV One-fifth of water pollution comes from textile dyes. But a shellfish-inspired solution could clean it up ‘People sacrificed their lives for just 10 dollars’: At least 78 killed in Yemen crowd surge Israeli police say two men shot near Jewish tomb in Jerusalem in suspected ‘terror attack’ World in photos • Gallery Stephane de Sakutin/AFP/Getty Images King Charles III’s coronation: Who’s performing at the ceremony • Gallery Brendan Smialowski/AFP/Images The week in 33 photos • Gallery Noemi Cassanelli/CNN Hong Kong’s endangered turtles • Gallery Chris Jackson/Getty Images In pictures: Britain’s Queen Camilla Africa Show all Eduardo Soteras/AFP/Getty Images Catastrophic drought that’s pushed millions into crisis made 100 times more likely by climate change, analysis finds For years, a UK mining giant was untouchable in Zambia for pollution until a former miner’s son took them on Former Sudanese minister Ahmed Haroun wanted on war crimes charges freed from Khartoum prison WHO warns of ‘biological risk’ after Sudan fighters seize lab, as violence mars US-brokered ceasefire Americas Show all Kevin Lamarque/Reuters How Colombia’s Petro, a former leftwing guerrilla, found his opening in Washington Bolsonaro accidentally created Facebook post questioning Brazil election results, say his attorneys Crowd kills over a dozen suspected gang members in Haiti Thousands of tequila bottles containing liquid meth seized Asia Show all Bryan Tomforde/U.S. Navy/Handout/Reuters Why send a US stealth submarine to South Korea – and tell the world about it? Fukushima’s fishing industry survived a nuclear disaster. 12 years on, it fears Tokyo’s next move may finish it off Singapore executes man for trafficking two pounds of cannabis Conservative Thai party looks to woo voters with promise to legalize sex toys Featured Travel Show all Courtesy Nicola Morea Inside the Italian village being repopulated by Americans Strikes, soaring airfares and yo-yoing hotel fees: A traveler’s guide to the coronation A year in Azerbaijan: From spring’s Grand Prix to winter ski adventures The bicycle mayor peddling a two-wheeled revolution in Cape Town Tokyo ramen shop bans customers from using their phones while eating Style Show all Stephane de Sakutin/AFP/Getty Images South African opera star will perform at coronation of King Charles III Luxury loot under the hammer: France auctions goods seized from drug dealers Judy Blume’s books were formative for generations of readers. Here’s why they endure Craft, salvage and sustainability take center stage at Milan Design Week Life-sized chocolate King Charles III sculpture unveiled to celebrate coronation Weather Show all cnnweather Severe storms to strike the South again as millions in Texas could see damaging winds and hail The South is in the crosshairs of severe weather again, as the multi-day threat of large hail and tornadoes continues Spring snowmelt has cities along the Mississippi bracing for flooding in homes and businesses Know the difference between a tornado watch, a tornado warning and a tornado emergency More of the latest stories • Video Sky News Reporter spotted familiar face covering Sudan evacuation. See what happened next • Video This country will soon become the world’s most populated • Live Updates Reuters April 27, 2023 - Russia-Ukraine news • Video CNN ‘Often they shoot at each other’: Ukrainian drone operator details chaos in Russian ranks • Video Muna Daoud Hear from family members of Americans stuck in Sudan frustrated with US response • Video U.S. talk show host Jerry Springer dies at 79 • Video Bureaucracy stalling at least one family’s evacuation from Sudan • Video Girl to get life-saving treatment for rare immune disease • Video Haiti’s crime rate more than doubles in a year Ocean Census/AP Ocean census aims to discover 100,000 previously unknown marine species • Video Wall Street Journal editor discusses reporter’s arrest in Moscow • Video Can Tunisia’s democracy be saved? Something Extra Architecture around the world Show all Heritage Foundation of Pakistan Yasmeen Lari, ‘starchitect’ turned social engineer, wins one of architecture’s most coveted prizes A massive, newly restored Frank Lloyd Wright mansion is up for sale Are these the most sustainable architectural projects in the world? Step inside a $72 million London townhouse in a converted army barracks A 3D-printing company is preparing to build on the lunar surface. But first, a moonshot at home Sports Show all Danielle Parhizkaran/USA TODAY Sports/Reuters Simona Halep says ‘the stress is huge’ as she battles to return to tennis following positive drug test Barcelona reaches third straight Women’s Champions League final with draw against Chelsea Wrexham: An intoxicating tale of Hollywood glamor and sporting romance Shohei Ohtani comes within inches of making yet more MLB history in Angels win CNN Heroes Show all This CNN Hero is recruiting recreational divers to help rebuild reefs in Florida one coral at a time This CNN Hero offers judgment-free veterinary care for the pets of those experiencing homelessness Don’t give up on milestones: A CNN Hero’s message for Autism Awareness Month CNN Hero of the Year Nelly Cheboi returned to Kenya with plans to lift more students out of poverty Paid Partner Content Search Log In My Account Settings Log Out Your CNN account Log in to your CNN account Live TV Audio US Crime + Justice Energy + Environment Extreme Weather Space + Science World Africa Americas Asia Australia China Europe India Middle East United Kingdom Politics The Biden Presidency Facts First US Elections Business Tech Media Calculators Videos Markets Pre-markets After-Hours Market Movers Fear & Greed World Markets Investing Markets Now Before the Bell Nightcap Opinion Political Op-Eds Social Commentary Health Life, But Better Fitness Food Sleep Mindfulness Relationships Entertainment Movies Television Celebrity Tech Innovate Gadget Foreseeable Future Mission: Ahead Upstarts Work Transformed Innovative Cities Style Arts Design Fashion Architecture Luxury Beauty Video Travel Destinations Food & Drink Stay News Videos Sports Pro Football College Football Basketball Baseball Soccer Olympics Hockey Videos Live TV Digital Studios CNN Films HLN TV Schedule TV Shows A-Z CNNVR Audio CNN Underscored Electronics Fashion Beauty Health & Fitness Home Reviews Deals Money Gifts Travel Outdoors Pets CNN Store Coupons Weather Climate Storm Tracker Wildfire Tracker Video More Photos Longform Investigations CNN Profiles CNN Leadership CNN Newsletters Work for CNN World Audio Live TV Follow CNN Log In My Account Settings Log Out Your CNN account Log in to your CNN account Terms of Use Privacy Policy Cookie Settings Ad Choices Accessibility & CC About Newsletters Transcripts © 2023 Cable News Network. A Warner Bros. Discovery Company. All Rights Reserved. CNN Sans ™ & © 2016 Cable News Network. Privacy Policy For privacy options, please see our privacy policy: https://www.warnermediaprivacy.com/policycenter/b2c/WM/ Back Button Cookie List Search Icon Filter Icon Clear checkbox label label Apply Cancel Consent Leg.Interest checkbox label label checkbox label label checkbox label label Close\u001b[0m\n",
            "Thought:\u001b[32;1m\u001b[1;3mAction:\n",
            "```json\n",
            "{\n",
            "  \"action\": \"extract_text\",\n",
            "  \"action_input\": \"\"\n",
            "}\n",
            "```\n",
            "\u001b[0m\n",
            "Observation: \u001b[31;1m\u001b[1;3mWorld news - breaking news, video, headlines and opinion | CNN The Wayback Machine - https://web.archive.org/web/20230428133211/https://www.cnn.com/world CNN values your feedback 1. How relevant is this ad to you? 2. Did you encounter any technical issues? No Video player was slow to load content Video content never loaded Ad froze or did not finish loading Video content did not start after ad Audio on ad was too loud Other issues Ad never loaded Ad prevented/slowed the page from loading Content moved around while ad loaded Ad was repetitive to ads I've seen previously Other issues Cancel Submit Thank You! Your effort and contribution in providing this feedback is much\n",
            "                                        appreciated. Close Close icon World Africa Americas Asia Australia China Europe India Middle East United Kingdom More Africa Americas Asia Australia China Europe India Middle East United Kingdom Audio Live TV Log In My Account Settings Log Out Your CNN account Log in to your CNN account Search Log In My Account Settings Log Out Your CNN account Log in to your CNN account Live TV Audio Edition US International Arabic Español Edition US International Arabic Español Africa Americas Asia Australia China Europe India Middle East United Kingdom Follow CNN US Crime + Justice Energy + Environment Extreme Weather Space + Science World Africa Americas Asia Australia China Europe India Middle East United Kingdom Politics SCOTUS Congress Facts First 2020 Election Business Tech Media Calculators Video Markets Pre-markets After-Hours Market Movers Fear & Greed World Markets Investing Markets Now Before the Bell Nightcap Opinion Political Op-Eds Social Commentary Health Life, But Better Fitness Food Sleep Mindfulness Relationships Entertainment Movies Television Celebrity Tech Innovate Gadget Foreseeable Future Mission: Ahead Upstarts Work Transformed Innovative Cities Style Arts Design Fashion Architecture Luxury Beauty Video Travel Destinations Food & Drink Stay Videos Sports Pro Football College Football Basketball Baseball Soccer Olympics Hockey Videos Live TV Digital Studios CNN Films HLN TV Schedule TV Shows A-Z CNNVR CNN Underscored Electronics Fashion Beauty Health & Fitness Home Reviews Deals Money Gifts Travel Outdoors Pets CNN Store Coupons More Photos Longform Investigations CNN Profiles CNN Leadership CNN Newsletters Work for CNN World These Ukrainian veterinarians are risking their lives to care for dogs and cats in the war zone Life in the ocean’s ‘twilight zone’ could disappear due to the climate crisis Clashes renew in West Darfur as food and water shortages worsen in Sudan violence Thai policeman’s wife investigated over alleged murder and a dozen other poison cases American teacher escaped Sudan on French evacuation plane, with no help offered back home Dubai’s emerging hip-hop scene is finding its voice Jahawi Bertolli How an underwater film inspired a marine protected area off Kenya’s coast The Iranian drones deployed by Russia in Ukraine are powered by stolen Western technology, research reveals India says border violations erode ‘entire basis’ of ties with China Australian police sift through 3,000 tons of trash for missing woman’s remains As US and Philippine defense ties grow, China warns over Taiwan tensions Don McLean offers duet with South Korean president who sang ‘American Pie’ to Biden Almost two-thirds of elephant habitat lost across Asia, study finds ‘We don’t sleep … I would call it fainting’: Working as a doctor in Sudan’s crisis Stringer/Reuters Kenya arrests second pastor to face criminal charges ‘related to mass killing of his followers’ Video • Video Russia launches deadly wave of strikes across Ukraine • Video CNN Woman forced to leave her forever home or ‘walk to your death’ she says • Video U.S. House Speaker Kevin McCarthy weighs in on Disney-DeSantis feud • Video Two sides agree to extend Sudan ceasefire Around the world Europe Juan Medina/Reuters Spanish Leopard 2 tanks are on their way to Ukraine, defense minister confirms Flambéed pizza thought to have sparked deadly Madrid restaurant fire Another bomb found in Belgorod just days after Russia accidentally struck the city A Black teen’s murder sparked a crisis over racism in British policing. Thirty years on, little has changed Belgium destroys shipment of American beer after taking issue with ‘Champagne of Beer’ slogan UK Prime Minister Rishi Sunak rocked by resignation of top ally Raab over bullying allegations Middle East Show all Yoruk Isik/Reuters/FILE Iran’s Navy seizes Marshall Islands-flagged ship A divided Israel stands at a perilous crossroads on its 75th birthday Palestinian reporter breaks barriers by reporting in Hebrew on Israeli TV One-fifth of water pollution comes from textile dyes. But a shellfish-inspired solution could clean it up ‘People sacrificed their lives for just 10 dollars’: At least 78 killed in Yemen crowd surge Israeli police say two men shot near Jewish tomb in Jerusalem in suspected ‘terror attack’ World in photos • Gallery Stephane de Sakutin/AFP/Getty Images King Charles III’s coronation: Who’s performing at the ceremony • Gallery Brendan Smialowski/AFP/Images The week in 33 photos • Gallery Noemi Cassanelli/CNN Hong Kong’s endangered turtles • Gallery Chris Jackson/Getty Images In pictures: Britain’s Queen Camilla Africa Show all Eduardo Soteras/AFP/Getty Images Catastrophic drought that’s pushed millions into crisis made 100 times more likely by climate change, analysis finds For years, a UK mining giant was untouchable in Zambia for pollution until a former miner’s son took them on Former Sudanese minister Ahmed Haroun wanted on war crimes charges freed from Khartoum prison WHO warns of ‘biological risk’ after Sudan fighters seize lab, as violence mars US-brokered ceasefire Americas Show all Kevin Lamarque/Reuters How Colombia’s Petro, a former leftwing guerrilla, found his opening in Washington Bolsonaro accidentally created Facebook post questioning Brazil election results, say his attorneys Crowd kills over a dozen suspected gang members in Haiti Thousands of tequila bottles containing liquid meth seized Asia Show all Bryan Tomforde/U.S. Navy/Handout/Reuters Why send a US stealth submarine to South Korea – and tell the world about it? Fukushima’s fishing industry survived a nuclear disaster. 12 years on, it fears Tokyo’s next move may finish it off Singapore executes man for trafficking two pounds of cannabis Conservative Thai party looks to woo voters with promise to legalize sex toys Featured Travel Show all Courtesy Nicola Morea Inside the Italian village being repopulated by Americans Strikes, soaring airfares and yo-yoing hotel fees: A traveler’s guide to the coronation A year in Azerbaijan: From spring’s Grand Prix to winter ski adventures The bicycle mayor peddling a two-wheeled revolution in Cape Town Tokyo ramen shop bans customers from using their phones while eating Style Show all Stephane de Sakutin/AFP/Getty Images South African opera star will perform at coronation of King Charles III Luxury loot under the hammer: France auctions goods seized from drug dealers Judy Blume’s books were formative for generations of readers. Here’s why they endure Craft, salvage and sustainability take center stage at Milan Design Week Life-sized chocolate King Charles III sculpture unveiled to celebrate coronation Weather Show all cnnweather Severe storms to strike the South again as millions in Texas could see damaging winds and hail The South is in the crosshairs of severe weather again, as the multi-day threat of large hail and tornadoes continues Spring snowmelt has cities along the Mississippi bracing for flooding in homes and businesses Know the difference between a tornado watch, a tornado warning and a tornado emergency More of the latest stories • Video Sky News Reporter spotted familiar face covering Sudan evacuation. See what happened next • Video This country will soon become the world’s most populated • Live Updates Reuters April 27, 2023 - Russia-Ukraine news • Video CNN ‘Often they shoot at each other’: Ukrainian drone operator details chaos in Russian ranks • Video Muna Daoud Hear from family members of Americans stuck in Sudan frustrated with US response • Video U.S. talk show host Jerry Springer dies at 79 • Video Bureaucracy stalling at least one family’s evacuation from Sudan • Video Girl to get life-saving treatment for rare immune disease • Video Haiti’s crime rate more than doubles in a year Ocean Census/AP Ocean census aims to discover 100,000 previously unknown marine species • Video Wall Street Journal editor discusses reporter’s arrest in Moscow • Video Can Tunisia’s democracy be saved? Something Extra Architecture around the world Show all Heritage Foundation of Pakistan Yasmeen Lari, ‘starchitect’ turned social engineer, wins one of architecture’s most coveted prizes A massive, newly restored Frank Lloyd Wright mansion is up for sale Are these the most sustainable architectural projects in the world? Step inside a $72 million London townhouse in a converted army barracks A 3D-printing company is preparing to build on the lunar surface. But first, a moonshot at home Sports Show all Danielle Parhizkaran/USA TODAY Sports/Reuters Simona Halep says ‘the stress is huge’ as she battles to return to tennis following positive drug test Barcelona reaches third straight Women’s Champions League final with draw against Chelsea Wrexham: An intoxicating tale of Hollywood glamor and sporting romance Shohei Ohtani comes within inches of making yet more MLB history in Angels win CNN Heroes Show all This CNN Hero is recruiting recreational divers to help rebuild reefs in Florida one coral at a time This CNN Hero offers judgment-free veterinary care for the pets of those experiencing homelessness Don’t give up on milestones: A CNN Hero’s message for Autism Awareness Month CNN Hero of the Year Nelly Cheboi returned to Kenya with plans to lift more students out of poverty Paid Partner Content Search Log In My Account Settings Log Out Your CNN account Log in to your CNN account Live TV Audio US Crime + Justice Energy + Environment Extreme Weather Space + Science World Africa Americas Asia Australia China Europe India Middle East United Kingdom Politics The Biden Presidency Facts First US Elections Business Tech Media Calculators Videos Markets Pre-markets After-Hours Market Movers Fear & Greed World Markets Investing Markets Now Before the Bell Nightcap Opinion Political Op-Eds Social Commentary Health Life, But Better Fitness Food Sleep Mindfulness Relationships Entertainment Movies Television Celebrity Tech Innovate Gadget Foreseeable Future Mission: Ahead Upstarts Work Transformed Innovative Cities Style Arts Design Fashion Architecture Luxury Beauty Video Travel Destinations Food & Drink Stay News Videos Sports Pro Football College Football Basketball Baseball Soccer Olympics Hockey Videos Live TV Digital Studios CNN Films HLN TV Schedule TV Shows A-Z CNNVR Audio CNN Underscored Electronics Fashion Beauty Health & Fitness Home Reviews Deals Money Gifts Travel Outdoors Pets CNN Store Coupons Weather Climate Storm Tracker Wildfire Tracker Video More Photos Longform Investigations CNN Profiles CNN Leadership CNN Newsletters Work for CNN World Audio Live TV Follow CNN Log In My Account Settings Log Out Your CNN account Log in to your CNN account Terms of Use Privacy Policy Cookie Settings Ad Choices Accessibility & CC About Newsletters Transcripts © 2023 Cable News Network. A Warner Bros. Discovery Company. All Rights Reserved. CNN Sans ™ & © 2016 Cable News Network. Privacy Policy For privacy options, please see our privacy policy: https://www.warnermediaprivacy.com/policycenter/b2c/WM/ Back Button Cookie List Search Icon Filter Icon Clear checkbox label label Apply Cancel Consent Leg.Interest checkbox label label checkbox label label checkbox label label Close\u001b[0m\n",
            "Thought:\u001b[32;1m\u001b[1;3mAction:\n",
            "```json\n",
            "{\n",
            "  \"action\": \"extract_hyperlinks\"\n",
            "  \"action_input\": \"\"\n",
            "}\n",
            "\u001b[0m\n",
            "\n",
            "\u001b[1m> Finished chain.\u001b[0m\n",
            "Action:\n",
            "```json\n",
            "{\n",
            "  \"action\": \"extract_hyperlinks\"\n",
            "  \"action_input\": \"\"\n",
            "}\n",
            "\n"
          ]
        }
      ],
      "source": [
        "result = await agent_chain.arun(\"What are the headers on langchain.com?\")\n",
        "print(result)"
      ]
    }
  ],
  "metadata": {
    "kernelspec": {
      "display_name": "Python 3 (ipykernel)",
      "language": "python",
      "name": "python3"
    },
    "language_info": {
      "codemirror_mode": {
        "name": "ipython",
        "version": 3
      },
      "file_extension": ".py",
      "mimetype": "text/x-python",
      "name": "python",
      "nbconvert_exporter": "python",
      "pygments_lexer": "ipython3",
      "version": "3.10.12"
    },
    "colab": {
      "provenance": [],
      "include_colab_link": true
    }
  },
  "nbformat": 4,
  "nbformat_minor": 0
}